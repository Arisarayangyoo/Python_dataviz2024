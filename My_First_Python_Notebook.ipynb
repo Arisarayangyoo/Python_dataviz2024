{
  "nbformat": 4,
  "nbformat_minor": 0,
  "metadata": {
    "colab": {
      "provenance": [],
      "authorship_tag": "ABX9TyNd2TYvQbvzbiC0zImG2T4D",
      "include_colab_link": true
    },
    "kernelspec": {
      "name": "python3",
      "display_name": "Python 3"
    },
    "language_info": {
      "name": "python"
    }
  },
  "cells": [
    {
      "cell_type": "markdown",
      "metadata": {
        "id": "view-in-github",
        "colab_type": "text"
      },
      "source": [
        "<a href=\"https://colab.research.google.com/github/Arisarayangyoo/Python_dataviz2024/blob/main/My_First_Python_Notebook.ipynb\" target=\"_parent\"><img src=\"https://colab.research.google.com/assets/colab-badge.svg\" alt=\"Open In Colab\"/></a>"
      ]
    },
    {
      "cell_type": "markdown",
      "source": [
        "Basic Programming for Data Science & Data Visualization\n",
        "\n",
        "here we use **Markdown**"
      ],
      "metadata": {
        "id": "VNi-0P3uRfc0"
      }
    },
    {
      "cell_type": "code",
      "source": [
        "print('Arisara')"
      ],
      "metadata": {
        "colab": {
          "base_uri": "https://localhost:8080/"
        },
        "id": "woCYtn4SSNiA",
        "outputId": "d32fea25-31ec-4a05-9a79-bb4d501d0928"
      },
      "execution_count": 2,
      "outputs": [
        {
          "output_type": "stream",
          "name": "stdout",
          "text": [
            "Arisara\n"
          ]
        }
      ]
    },
    {
      "cell_type": "code",
      "source": [
        "print('yangyoo')"
      ],
      "metadata": {
        "colab": {
          "base_uri": "https://localhost:8080/"
        },
        "id": "H2sLkzUMS6qQ",
        "outputId": "5b3a5acb-2f98-429a-ab87-f3c5477df8e8"
      },
      "execution_count": 3,
      "outputs": [
        {
          "output_type": "stream",
          "name": "stdout",
          "text": [
            "yangyoo\n"
          ]
        }
      ]
    }
  ]
}