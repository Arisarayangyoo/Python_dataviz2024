{
  "nbformat": 4,
  "nbformat_minor": 0,
  "metadata": {
    "kernelspec": {
      "display_name": "Python 3",
      "language": "python",
      "name": "python3"
    },
    "language_info": {
      "codemirror_mode": {
        "name": "ipython",
        "version": 3
      },
      "file_extension": ".py",
      "mimetype": "text/x-python",
      "name": "python",
      "nbconvert_exporter": "python",
      "pygments_lexer": "ipython3",
      "version": "3.7.4"
    },
    "colab": {
      "provenance": [],
      "include_colab_link": true
    }
  },
  "cells": [
    {
      "cell_type": "markdown",
      "metadata": {
        "id": "view-in-github",
        "colab_type": "text"
      },
      "source": [
        "<a href=\"https://colab.research.google.com/github/Arisarayangyoo/Python_dataviz2024/blob/main/Python101_2024.ipynb\" target=\"_parent\"><img src=\"https://colab.research.google.com/assets/colab-badge.svg\" alt=\"Open In Colab\"/></a>"
      ]
    },
    {
      "cell_type": "code",
      "source": [
        "# ใช้ comment ภาษา pyhon"
      ],
      "metadata": {
        "id": "am-BocutM4Z5"
      },
      "execution_count": null,
      "outputs": []
    },
    {
      "cell_type": "markdown",
      "source": [
        "# ใช้จัดระเบียบ Document และทำ Index  (ลำดับ Header)\n",
        "\n",
        "##Header1\n",
        "###Header2\n"
      ],
      "metadata": {
        "id": "UM43ajHLNOzc"
      }
    },
    {
      "cell_type": "markdown",
      "metadata": {
        "id": "Q9eja60jJ3Gp"
      },
      "source": [
        "# Variables\n",
        "- ตัวแปร ใช้เก็บข้อมูล\n"
      ]
    },
    {
      "cell_type": "code",
      "metadata": {
        "colab": {
          "base_uri": "https://localhost:8080/"
        },
        "id": "SAikt9ybNGbV",
        "outputId": "fff860d8-ba8a-4fe3-dcc3-1f158de96739"
      },
      "source": [
        "3.14159265359 #ค่า pi"
      ],
      "execution_count": 3,
      "outputs": [
        {
          "output_type": "execute_result",
          "data": {
            "text/plain": [
              "3.14159265359"
            ]
          },
          "metadata": {},
          "execution_count": 3
        }
      ]
    },
    {
      "cell_type": "markdown",
      "metadata": {
        "id": "Gd6fgMWiNmW1"
      },
      "source": [
        "หลักการตั้งชื่อตัวแปรเบื้องต้น\n",
        "\n",
        "1.   ตั้งให้สื่อ\n",
        "        * ใส่ชนิดตัวแปรเพิ่มเติมได้ เพื่อป้องกันความสับสน\n",
        "2.   ภาษาอังกฤษ\n",
        "3.   ใช้ตัวเลขได้แต่ห้ามขึ้นต้นด้วยตัวเลข\n",
        "4.   ห้ามเว้นวรรค\n",
        "\n"
      ]
    },
    {
      "cell_type": "code",
      "metadata": {
        "id": "uoewCMo9NbVz"
      },
      "source": [
        "pi = 3.14159265359"
      ],
      "execution_count": 4,
      "outputs": []
    },
    {
      "cell_type": "code",
      "metadata": {
        "colab": {
          "base_uri": "https://localhost:8080/"
        },
        "id": "qIXaHhITOfje",
        "outputId": "73a8e617-1ebd-4302-a3ca-7a73bfaa2f50"
      },
      "source": [
        "pi"
      ],
      "execution_count": 5,
      "outputs": [
        {
          "output_type": "execute_result",
          "data": {
            "text/plain": [
              "3.14159265359"
            ]
          },
          "metadata": {},
          "execution_count": 5
        }
      ]
    },
    {
      "cell_type": "markdown",
      "metadata": {
        "id": "mGZPfkgLJ3Gp"
      },
      "source": [
        "### int : จำนวนเต็ม"
      ]
    },
    {
      "cell_type": "code",
      "metadata": {
        "id": "pnARmXrrJ3Gq"
      },
      "source": [
        "int_a = 10"
      ],
      "execution_count": 6,
      "outputs": []
    },
    {
      "cell_type": "code",
      "metadata": {
        "colab": {
          "base_uri": "https://localhost:8080/"
        },
        "id": "bzTFLo2rJ3Gq",
        "outputId": "169f86ea-3daa-46c9-8def-f5a492be9cc8"
      },
      "source": [
        "print(int_a)"
      ],
      "execution_count": 7,
      "outputs": [
        {
          "output_type": "stream",
          "name": "stdout",
          "text": [
            "10\n"
          ]
        }
      ]
    },
    {
      "cell_type": "markdown",
      "metadata": {
        "id": "QN1-oFTTJ3Gs"
      },
      "source": [
        "### float : จำนวนจริง (ทศนิยม)"
      ]
    },
    {
      "cell_type": "code",
      "metadata": {
        "colab": {
          "base_uri": "https://localhost:8080/"
        },
        "id": "8k7ggeD5J3Gs",
        "outputId": "1f810e8d-0908-4a47-d769-511069861cc7"
      },
      "source": [
        "float_b = 10.\n",
        "print(float_b)"
      ],
      "execution_count": 8,
      "outputs": [
        {
          "output_type": "stream",
          "name": "stdout",
          "text": [
            "10.0\n"
          ]
        }
      ]
    },
    {
      "cell_type": "markdown",
      "metadata": {
        "id": "9tOhYLdkJ3Gt"
      },
      "source": [
        "###  ตัวอักษร (char (character)) ข้อความ (text หรือ string)\n",
        "* (#) hashtag, sharp ใช้สำหรับ comment"
      ]
    },
    {
      "cell_type": "code",
      "metadata": {
        "colab": {
          "base_uri": "https://localhost:8080/"
        },
        "id": "qx6H7E4KJ3Gt",
        "outputId": "51a48ce6-effb-4a2a-ee47-f145cfb889c3"
      },
      "source": [
        "str_c = 'อริสรา'   # เราจะบอกว่าตัวแปรเป็นตัวอักษรหรือข้อความโดยการใช้ single quote ' หรือ double quote \" ล้อมรอบ\n",
        "print(str_c)"
      ],
      "execution_count": 11,
      "outputs": [
        {
          "output_type": "stream",
          "name": "stdout",
          "text": [
            "อริสรา\n"
          ]
        }
      ]
    },
    {
      "cell_type": "markdown",
      "source": [
        "### ตัวแปรต่างชนิดกันไม่สามารถทำ operation กันได้"
      ],
      "metadata": {
        "id": "T07GtH08P6n0"
      }
    },
    {
      "cell_type": "code",
      "source": [
        "print(str_c + ' '+ 'STAT')\n",
        "# string + string\n",
        "# เอาตัวอักษรมาต่อกัน"
      ],
      "metadata": {
        "colab": {
          "base_uri": "https://localhost:8080/"
        },
        "id": "OS2iwTBHQIhK",
        "outputId": "ea06984e-de56-4946-8d06-e7a916e06e8b"
      },
      "execution_count": 12,
      "outputs": [
        {
          "output_type": "stream",
          "name": "stdout",
          "text": [
            "อริสรา STAT\n"
          ]
        }
      ]
    },
    {
      "cell_type": "code",
      "source": [
        "print(int_a + 13)\n",
        "# int + int\n",
        "# ตัวเลข บวกกัน"
      ],
      "metadata": {
        "id": "BSH0HpJgQjew"
      },
      "execution_count": null,
      "outputs": []
    },
    {
      "cell_type": "code",
      "source": [
        "print(str_c + int_a)\n",
        "# ตัวอย่างที่ผิด  type ต่างกัน"
      ],
      "metadata": {
        "colab": {
          "base_uri": "https://localhost:8080/",
          "height": 141
        },
        "id": "pBU66hmjQVjS",
        "outputId": "42013697-abb6-4fbe-8b63-9401217b5b5e"
      },
      "execution_count": 13,
      "outputs": [
        {
          "output_type": "error",
          "ename": "TypeError",
          "evalue": "can only concatenate str (not \"int\") to str",
          "traceback": [
            "\u001b[0;31m---------------------------------------------------------------------------\u001b[0m",
            "\u001b[0;31mTypeError\u001b[0m                                 Traceback (most recent call last)",
            "\u001b[0;32m<ipython-input-13-5c362b5ce263>\u001b[0m in \u001b[0;36m<cell line: 1>\u001b[0;34m()\u001b[0m\n\u001b[0;32m----> 1\u001b[0;31m \u001b[0mprint\u001b[0m\u001b[0;34m(\u001b[0m\u001b[0mstr_c\u001b[0m \u001b[0;34m+\u001b[0m \u001b[0mint_a\u001b[0m\u001b[0;34m)\u001b[0m\u001b[0;34m\u001b[0m\u001b[0;34m\u001b[0m\u001b[0m\n\u001b[0m",
            "\u001b[0;31mTypeError\u001b[0m: can only concatenate str (not \"int\") to str"
          ]
        }
      ]
    },
    {
      "cell_type": "code",
      "source": [
        "print(str_c + str_c(int_a))\n",
        "#แปลง int_a ให้เป็น string ก่อนค่อยนำมาต่อกัน"
      ],
      "metadata": {
        "id": "CnZ46W8DRhq3"
      },
      "execution_count": null,
      "outputs": []
    },
    {
      "cell_type": "code",
      "source": [
        "str_d = '123'\n",
        "print(str_d + int_a)\n",
        "# ตัวอย่างที่ผิด  type ต่างกัน"
      ],
      "metadata": {
        "colab": {
          "base_uri": "https://localhost:8080/",
          "height": 159
        },
        "id": "WWFsd28yRzrm",
        "outputId": "b89151d7-eba7-42d7-e30e-e9d9a3dcfbae"
      },
      "execution_count": 14,
      "outputs": [
        {
          "output_type": "error",
          "ename": "TypeError",
          "evalue": "can only concatenate str (not \"int\") to str",
          "traceback": [
            "\u001b[0;31m---------------------------------------------------------------------------\u001b[0m",
            "\u001b[0;31mTypeError\u001b[0m                                 Traceback (most recent call last)",
            "\u001b[0;32m<ipython-input-14-649d62acf772>\u001b[0m in \u001b[0;36m<cell line: 2>\u001b[0;34m()\u001b[0m\n\u001b[1;32m      1\u001b[0m \u001b[0mstr_d\u001b[0m \u001b[0;34m=\u001b[0m \u001b[0;34m'123'\u001b[0m\u001b[0;34m\u001b[0m\u001b[0;34m\u001b[0m\u001b[0m\n\u001b[0;32m----> 2\u001b[0;31m \u001b[0mprint\u001b[0m\u001b[0;34m(\u001b[0m\u001b[0mstr_d\u001b[0m \u001b[0;34m+\u001b[0m \u001b[0mint_a\u001b[0m\u001b[0;34m)\u001b[0m\u001b[0;34m\u001b[0m\u001b[0;34m\u001b[0m\u001b[0m\n\u001b[0m",
            "\u001b[0;31mTypeError\u001b[0m: can only concatenate str (not \"int\") to str"
          ]
        }
      ]
    },
    {
      "cell_type": "code",
      "source": [
        "int(str_d) + int_a\n",
        "#แปลง str_d ให้เป็น int ก่อนค่อยนำมาบวกกัน"
      ],
      "metadata": {
        "colab": {
          "base_uri": "https://localhost:8080/"
        },
        "id": "_1bLodXGSaGi",
        "outputId": "525fd1f8-fde9-4e40-b4f3-dc0a2a54c47f"
      },
      "execution_count": 15,
      "outputs": [
        {
          "output_type": "execute_result",
          "data": {
            "text/plain": [
              "133"
            ]
          },
          "metadata": {},
          "execution_count": 15
        }
      ]
    },
    {
      "cell_type": "markdown",
      "metadata": {
        "id": "UYTlNY4nJ3Gt"
      },
      "source": [
        "### variable casting (การเปลี่ยนชนิดของข้อมูล)"
      ]
    },
    {
      "cell_type": "code",
      "metadata": {
        "colab": {
          "base_uri": "https://localhost:8080/"
        },
        "id": "8IMgSjo8J3Gu",
        "outputId": "7f67c529-e9fb-42cc-be7e-fc19ac6863ff"
      },
      "source": [
        "int(str_d) + 1\n",
        "# function"
      ],
      "execution_count": 17,
      "outputs": [
        {
          "output_type": "execute_result",
          "data": {
            "text/plain": [
              "124"
            ]
          },
          "metadata": {},
          "execution_count": 17
        }
      ]
    },
    {
      "cell_type": "code",
      "metadata": {
        "colab": {
          "base_uri": "https://localhost:8080/"
        },
        "id": "PepisZSuR-6O",
        "outputId": "46ed16c1-47d8-454a-9fe5-93c50e12a8d8"
      },
      "source": [
        "print(int_a)\n",
        "print(float(int_a))\n",
        "print(str(int_a))"
      ],
      "execution_count": 18,
      "outputs": [
        {
          "output_type": "stream",
          "name": "stdout",
          "text": [
            "10\n",
            "10.0\n",
            "10\n"
          ]
        }
      ]
    },
    {
      "cell_type": "markdown",
      "metadata": {
        "id": "DCsc4R9KJ3Gu"
      },
      "source": [
        "# Operation (Operators +,-,*,/,%)\n",
        "* (%) มอดูโล Modulo หารเอาเศษเหลือ"
      ]
    },
    {
      "cell_type": "code",
      "metadata": {
        "colab": {
          "base_uri": "https://localhost:8080/"
        },
        "id": "FahcgJdhJ3Gu",
        "outputId": "d3646ee1-dec3-4f3d-8343-5b5e4d7838dc"
      },
      "source": [
        "int_a+float_b"
      ],
      "execution_count": 19,
      "outputs": [
        {
          "output_type": "execute_result",
          "data": {
            "text/plain": [
              "20.0"
            ]
          },
          "metadata": {},
          "execution_count": 19
        }
      ]
    },
    {
      "cell_type": "code",
      "metadata": {
        "colab": {
          "base_uri": "https://localhost:8080/"
        },
        "id": "VvE9t0j9J3Gu",
        "outputId": "97bcea8c-1352-4622-81b5-5299e0baa1b8"
      },
      "source": [
        "ab = int_a+float_b\n",
        "print(ab)"
      ],
      "execution_count": 20,
      "outputs": [
        {
          "output_type": "stream",
          "name": "stdout",
          "text": [
            "20.0\n"
          ]
        }
      ]
    },
    {
      "cell_type": "markdown",
      "metadata": {
        "id": "u9KXbMyeJ3Gu"
      },
      "source": [
        "#### % คือ เครืองหมาย modulo หารเอาเศษเหลือ"
      ]
    },
    {
      "cell_type": "code",
      "metadata": {
        "colab": {
          "base_uri": "https://localhost:8080/"
        },
        "id": "lw9DDEhtJ3Gv",
        "outputId": "9cf7107d-1a19-48b4-e71c-8af5924e19fe"
      },
      "source": [
        "5%3"
      ],
      "execution_count": 21,
      "outputs": [
        {
          "output_type": "execute_result",
          "data": {
            "text/plain": [
              "2"
            ]
          },
          "metadata": {},
          "execution_count": 21
        }
      ]
    },
    {
      "cell_type": "code",
      "metadata": {
        "colab": {
          "base_uri": "https://localhost:8080/"
        },
        "id": "MQU5WHmTTCjM",
        "outputId": "0ef46bfe-b82b-4fd6-ee49-baf19d9d11c1"
      },
      "source": [
        "7%3"
      ],
      "execution_count": 22,
      "outputs": [
        {
          "output_type": "execute_result",
          "data": {
            "text/plain": [
              "1"
            ]
          },
          "metadata": {},
          "execution_count": 22
        }
      ]
    },
    {
      "cell_type": "markdown",
      "source": [
        "####  ** คือ เครื่องหมายยกกำลัง\n",
        " - c**0.5 = รากที่สองของ C"
      ],
      "metadata": {
        "id": "d_-QdADyUe0m"
      }
    },
    {
      "cell_type": "code",
      "source": [
        "2**10"
      ],
      "metadata": {
        "id": "HysS2n1gUkbP"
      },
      "execution_count": null,
      "outputs": []
    },
    {
      "cell_type": "markdown",
      "metadata": {
        "id": "fa8Cy421TQyv"
      },
      "source": [
        "### คำสั่ง print แบบพิเศษ (การ format string)"
      ]
    },
    {
      "cell_type": "markdown",
      "source": [
        "```\n",
        " f ' ข้อความธรรมดา {Code} ข้อความธรรมดา {Code}'\n",
        "```\n",
        "\n",
        "\n",
        "\n"
      ],
      "metadata": {
        "id": "rpKFDJzZVUzJ"
      }
    },
    {
      "cell_type": "code",
      "metadata": {
        "colab": {
          "base_uri": "https://localhost:8080/"
        },
        "id": "hUsMNU5MTMBZ",
        "outputId": "bd53e9ad-8c64-4d06-93fc-ac02b64e48d9"
      },
      "source": [
        "print('ตัวแปร') #สิ่งที่อยู่ข้างในวงเล็บคือ ตัวแปร และ string"
      ],
      "execution_count": null,
      "outputs": [
        {
          "output_type": "stream",
          "text": [
            "ตัวแปร\n"
          ],
          "name": "stdout"
        }
      ]
    },
    {
      "cell_type": "code",
      "metadata": {
        "colab": {
          "base_uri": "https://localhost:8080/"
        },
        "id": "N9TJUqyYTiaS",
        "outputId": "4da3ee5f-3c12-4a64-c146-449b4b8f081f"
      },
      "source": [
        "print(f'% คือการหารเอาเศษ เช่น 7%3 = {7%3}') # เพิ่ม f หน้า 'string' และใช้ {} ใส่ code"
      ],
      "execution_count": 23,
      "outputs": [
        {
          "output_type": "stream",
          "name": "stdout",
          "text": [
            "% คือการหารเอาเศษ เช่น 7%3 = 1\n"
          ]
        }
      ]
    },
    {
      "cell_type": "code",
      "metadata": {
        "colab": {
          "base_uri": "https://localhost:8080/"
        },
        "id": "FiTszVZXTiW4",
        "outputId": "fabd804d-e5b2-47f7-9212-3ff5426b9fc7"
      },
      "source": [
        "print(f'% คือการหารเอาเศษ เช่น 7%3 = {7%3} \\\n",
        "          \\n / คือการหารปกติ เช่น 7/3 = {7/3} \\\n",
        "          \\n  // คือการหารเอาส่วน เช่น 7//3 = {7//3} \\\n",
        "          \\n หรือใช้ int() เพื่อหารเอาส่วน เช่น int(7/3) = {int(7/3)}\\\n",
        "          \\n ตัวแปร  int_a คือ {int_a}') # \\n คือการขึ้นบรรทัดใหม่ \\\\ ใช้ในการตัด code แต่ com จะไม่เห็น"
      ],
      "execution_count": 33,
      "outputs": [
        {
          "output_type": "stream",
          "name": "stdout",
          "text": [
            "% คือการหารเอาเศษ เช่น 7%3 = 1           \n",
            " / คือการหารปกติ เช่น 7/3 = 2.3333333333333335           \n",
            "  // คือการหารเอาส่วน เช่น 7//3 = 2           \n",
            " หรือใช้ int() เพื่อหารเอาส่วน เช่น int(7/3) = 2          \n",
            " ตัวแปร  int_a คือ 10\n"
          ]
        }
      ]
    },
    {
      "cell_type": "markdown",
      "metadata": {
        "id": "FHzvVDaWJ3Gw"
      },
      "source": [
        "## DATA STRUCTURE (โครงสร้างข้อมูล)"
      ]
    },
    {
      "cell_type": "markdown",
      "metadata": {
        "id": "e5kIU3W-J3Gw"
      },
      "source": [
        "### List คือ การเอาตัวแปรหลายๆตัวมาเรียงกัน\n",
        "#### list สามารถสร้างได้ 2แบบ ดังนี้"
      ]
    },
    {
      "cell_type": "markdown",
      "metadata": {
        "id": "hq7h4tj2J3Gw"
      },
      "source": [
        "#### แบบที่1 > square brackets"
      ]
    },
    {
      "cell_type": "code",
      "metadata": {
        "colab": {
          "base_uri": "https://localhost:8080/"
        },
        "id": "8Fnk8-I9J3Gw",
        "outputId": "fa1cb50f-e62e-41cc-f4f3-b6b45da2ab3e"
      },
      "source": [
        "list_a = []\n",
        "print(list_a)\n",
        "#เป็น array"
      ],
      "execution_count": 35,
      "outputs": [
        {
          "output_type": "stream",
          "name": "stdout",
          "text": [
            "[]\n"
          ]
        }
      ]
    },
    {
      "cell_type": "code",
      "metadata": {
        "colab": {
          "base_uri": "https://localhost:8080/"
        },
        "id": "9R2jTTTQJ3Gw",
        "outputId": "a392a5ed-8b6a-41ac-891d-8dabb2553b1f"
      },
      "source": [
        "list_b = [1,5,'v']\n",
        "print(list_b)\n",
        "# คั่นด้วย , สามารถใส่หลายตัวแปรใน 1 list ได้"
      ],
      "execution_count": 36,
      "outputs": [
        {
          "output_type": "stream",
          "name": "stdout",
          "text": [
            "[1, 5, 'v']\n"
          ]
        }
      ]
    },
    {
      "cell_type": "markdown",
      "metadata": {
        "id": "L7bQ_1JJbU0l"
      },
      "source": [
        "### ลำดับที่อยู่ใน list มีความสำคัญ (ลำดับใน list เริ่มจาก 0,1,2,...)"
      ]
    },
    {
      "cell_type": "code",
      "metadata": {
        "colab": {
          "base_uri": "https://localhost:8080/",
          "height": 34
        },
        "id": "Fy2Ju92hbTJe",
        "outputId": "78c544d6-75cf-4e1f-83d6-0ca168799f71"
      },
      "source": [
        "list_b[2] # ชี้ (indexing)"
      ],
      "execution_count": 47,
      "outputs": [
        {
          "output_type": "execute_result",
          "data": {
            "text/plain": [
              "'v'"
            ],
            "application/vnd.google.colaboratory.intrinsic+json": {
              "type": "string"
            }
          },
          "metadata": {},
          "execution_count": 47
        }
      ]
    },
    {
      "cell_type": "markdown",
      "metadata": {
        "id": "f_DgmUApJ3Gw"
      },
      "source": [
        "#### แบบที่2"
      ]
    },
    {
      "cell_type": "code",
      "metadata": {
        "colab": {
          "base_uri": "https://localhost:8080/"
        },
        "id": "pmBmmx92J3Gx",
        "outputId": "13220a1f-7227-4b54-e301-cd1d6939c6e2"
      },
      "source": [
        "list_c = list()\n",
        "print(list_c)"
      ],
      "execution_count": 38,
      "outputs": [
        {
          "output_type": "stream",
          "name": "stdout",
          "text": [
            "[]\n"
          ]
        }
      ]
    },
    {
      "cell_type": "markdown",
      "metadata": {
        "id": "oVe1jDU1J3Gx"
      },
      "source": [
        "## append() เพิ่มสมาชิกใน list"
      ]
    },
    {
      "cell_type": "code",
      "metadata": {
        "colab": {
          "base_uri": "https://localhost:8080/"
        },
        "id": "fLqpVjZzJ3Gx",
        "outputId": "83b76b7a-2fb9-4ec8-9a42-f872fbc9a905"
      },
      "source": [
        "list_b.append('u')\n",
        "print(list_b)  #เพิ่มสมาชิกตัวสุดท้ายเอามาใน list"
      ],
      "execution_count": 39,
      "outputs": [
        {
          "output_type": "stream",
          "name": "stdout",
          "text": [
            "[1, 5, 'v', 'u']\n"
          ]
        }
      ]
    },
    {
      "cell_type": "code",
      "metadata": {
        "colab": {
          "base_uri": "https://localhost:8080/",
          "height": 34
        },
        "id": "MoBOtpexJ3Gx",
        "outputId": "2b5ff904-0485-434a-a7ef-5041cede00fb"
      },
      "source": [
        "list_b.pop() #ดึงสมาชิกที่สุดท้ายออกจาก list ไม่ค่อยใช้กัน"
      ],
      "execution_count": 40,
      "outputs": [
        {
          "output_type": "execute_result",
          "data": {
            "text/plain": [
              "'u'"
            ],
            "application/vnd.google.colaboratory.intrinsic+json": {
              "type": "string"
            }
          },
          "metadata": {},
          "execution_count": 40
        }
      ]
    },
    {
      "cell_type": "code",
      "metadata": {
        "colab": {
          "base_uri": "https://localhost:8080/"
        },
        "id": "oysetHrWJ3Gx",
        "outputId": "7e475593-b250-42b6-9ffc-4289b7536bc0"
      },
      "source": [
        "list_b"
      ],
      "execution_count": null,
      "outputs": [
        {
          "output_type": "execute_result",
          "data": {
            "text/plain": [
              "[1, 5, 'v']"
            ]
          },
          "metadata": {
            "tags": []
          },
          "execution_count": 37
        }
      ]
    },
    {
      "cell_type": "code",
      "source": [
        "list_a.append('sci')"
      ],
      "metadata": {
        "id": "LGk7eCIGZ-NH"
      },
      "execution_count": 41,
      "outputs": []
    },
    {
      "cell_type": "code",
      "metadata": {
        "colab": {
          "base_uri": "https://localhost:8080/"
        },
        "id": "MB3iJBCQJ3Gx",
        "outputId": "3ddc287f-b315-4b59-acae-21adf2c9aea1"
      },
      "source": [
        "list_b.append(list_a)\n",
        "print(list_b)"
      ],
      "execution_count": 42,
      "outputs": [
        {
          "output_type": "stream",
          "name": "stdout",
          "text": [
            "[1, 5, 'v', ['sci']]\n"
          ]
        }
      ]
    },
    {
      "cell_type": "markdown",
      "metadata": {
        "id": "i-HVllkVJ3Gy"
      },
      "source": [
        "## String > list of characters\n",
        "* pyhon มอง string เป็น list of charaters ทำงานกับ string ได้ดีกว่า"
      ]
    },
    {
      "cell_type": "code",
      "metadata": {
        "colab": {
          "base_uri": "https://localhost:8080/",
          "height": 34
        },
        "id": "DNNnCnrUJ3Gy",
        "outputId": "48facf90-4cd7-4e9f-e568-ff6397979a54"
      },
      "source": [
        "t = 'python is easy'\n",
        "t"
      ],
      "execution_count": 43,
      "outputs": [
        {
          "output_type": "execute_result",
          "data": {
            "text/plain": [
              "'python is easy'"
            ],
            "application/vnd.google.colaboratory.intrinsic+json": {
              "type": "string"
            }
          },
          "metadata": {},
          "execution_count": 43
        }
      ]
    },
    {
      "cell_type": "code",
      "source": [
        "t[7] # ชี้ (indexing)"
      ],
      "metadata": {
        "colab": {
          "base_uri": "https://localhost:8080/",
          "height": 34
        },
        "id": "AtbwUT2KaxEE",
        "outputId": "01c139b3-0e62-4876-8a0a-92322e1ee6e8"
      },
      "execution_count": 44,
      "outputs": [
        {
          "output_type": "execute_result",
          "data": {
            "text/plain": [
              "'i'"
            ],
            "application/vnd.google.colaboratory.intrinsic+json": {
              "type": "string"
            }
          },
          "metadata": {},
          "execution_count": 44
        }
      ]
    },
    {
      "cell_type": "code",
      "metadata": {
        "colab": {
          "base_uri": "https://localhost:8080/"
        },
        "id": "MT4PMgvSJ3Gy",
        "outputId": "f74a27ea-ea48-403a-f5a6-5316f950ca38"
      },
      "source": [
        "len(list_b) # len คือคำสั่งตรวจสอบความยาวของ list (จำนวนสมาชิก)"
      ],
      "execution_count": 45,
      "outputs": [
        {
          "output_type": "execute_result",
          "data": {
            "text/plain": [
              "4"
            ]
          },
          "metadata": {},
          "execution_count": 45
        }
      ]
    },
    {
      "cell_type": "code",
      "metadata": {
        "colab": {
          "base_uri": "https://localhost:8080/"
        },
        "id": "Sb7qn8lEJ3Gy",
        "outputId": "8b86b718-659c-4cd3-a7a0-e7c5e7c5c259"
      },
      "source": [
        "len(t)"
      ],
      "execution_count": 46,
      "outputs": [
        {
          "output_type": "execute_result",
          "data": {
            "text/plain": [
              "14"
            ]
          },
          "metadata": {},
          "execution_count": 46
        }
      ]
    },
    {
      "cell_type": "markdown",
      "metadata": {
        "id": "cCx2a490J3Gz"
      },
      "source": [
        "### access a member of a list (list&string)\n",
        "#### โดยการเริ่มนับจะเริ่มนับจาก 0\n",
        "#### 0 คือสมาชิกตัวแรก , -1 คือสมาชิกตัวสุดท้าย"
      ]
    },
    {
      "cell_type": "code",
      "metadata": {
        "colab": {
          "base_uri": "https://localhost:8080/",
          "height": 34
        },
        "id": "h1gP1q5lJ3Gz",
        "outputId": "0a611a1f-92b3-4c63-9d50-a908dc4e5fa5"
      },
      "source": [
        "t[1]"
      ],
      "execution_count": 48,
      "outputs": [
        {
          "output_type": "execute_result",
          "data": {
            "text/plain": [
              "'y'"
            ],
            "application/vnd.google.colaboratory.intrinsic+json": {
              "type": "string"
            }
          },
          "metadata": {},
          "execution_count": 48
        }
      ]
    },
    {
      "cell_type": "code",
      "metadata": {
        "colab": {
          "base_uri": "https://localhost:8080/",
          "height": 34
        },
        "id": "7I6FHLuwJ3Gz",
        "outputId": "8bf2979c-cc34-47f9-e226-154afc408288"
      },
      "source": [
        "t[-1]"
      ],
      "execution_count": 49,
      "outputs": [
        {
          "output_type": "execute_result",
          "data": {
            "text/plain": [
              "'y'"
            ],
            "application/vnd.google.colaboratory.intrinsic+json": {
              "type": "string"
            }
          },
          "metadata": {},
          "execution_count": 49
        }
      ]
    },
    {
      "cell_type": "code",
      "metadata": {
        "colab": {
          "base_uri": "https://localhost:8080/",
          "height": 34
        },
        "id": "_cTxNpRVewFq",
        "outputId": "c89142b9-bc4b-44ba-e7a6-7758ce6e2b5e"
      },
      "source": [
        "t[-4]"
      ],
      "execution_count": 50,
      "outputs": [
        {
          "output_type": "execute_result",
          "data": {
            "text/plain": [
              "'e'"
            ],
            "application/vnd.google.colaboratory.intrinsic+json": {
              "type": "string"
            }
          },
          "metadata": {},
          "execution_count": 50
        }
      ]
    },
    {
      "cell_type": "markdown",
      "metadata": {
        "id": "gFt8MOOZef3M"
      },
      "source": [
        "### ตัวที่อยู่ข้างใน [ ] เราเรียกว่า index (ตัวชี้)"
      ]
    },
    {
      "cell_type": "markdown",
      "metadata": {
        "id": "sQt-ldH5J3Gz"
      },
      "source": [
        "### List slicing สามารถทำได้โดยใช้ colon :\n",
        "[a:b] -> [a,b)\n",
        "![9.gif](data:image/gif;base64,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)\n"
      ]
    },
    {
      "cell_type": "code",
      "metadata": {
        "id": "b6ntLSJ9Zing"
      },
      "source": [
        "t = 'python is easy'"
      ],
      "execution_count": 51,
      "outputs": []
    },
    {
      "cell_type": "code",
      "metadata": {
        "colab": {
          "base_uri": "https://localhost:8080/"
        },
        "id": "Q33VSRhhJ3Gz",
        "outputId": "640c9d47-2893-42b6-aa3c-84ee36fe690f"
      },
      "source": [
        "print(t)\n",
        "print(t[7:9]) #เอา 7 8 ไม่เอา9"
      ],
      "execution_count": 52,
      "outputs": [
        {
          "output_type": "stream",
          "name": "stdout",
          "text": [
            "python is easy\n",
            "is\n"
          ]
        }
      ]
    },
    {
      "cell_type": "markdown",
      "metadata": {
        "id": "SoaWuAvGhBzx"
      },
      "source": [
        "ถ้าเว้นว่างหน้า : หมายความว่า เริ่มตั้งแต่ตัวแรก\n",
        "\n",
        "ถ้าเว้นว่างหลัง : หมายความว่า ไปจนถึงตัวสุดท้าย"
      ]
    },
    {
      "cell_type": "code",
      "metadata": {
        "colab": {
          "base_uri": "https://localhost:8080/"
        },
        "id": "-xBD4-1-g4lp",
        "outputId": "03d1bf6b-0f37-463b-8019-86f1b21058a0"
      },
      "source": [
        "print(t)\n",
        "print(t[:6]) #เอาทั้งเเต่ตัวแรกถึง 5 ไม่เอา 6\n",
        "print(t[10:]) #เอาทั้งเเต่10 ขึ้นไป\n",
        "print(t[-4:]) #เอาตัวที่ 4 จากหลังไปหน้า\n",
        "print(t[:])   #เอาทั้งหมด"
      ],
      "execution_count": 53,
      "outputs": [
        {
          "output_type": "stream",
          "name": "stdout",
          "text": [
            "python is easy\n",
            "python\n",
            "easy\n",
            "easy\n",
            "python is easy\n"
          ]
        }
      ]
    },
    {
      "cell_type": "code",
      "metadata": {
        "id": "5BYz6EhAag-T",
        "outputId": "5ced6cc5-ac2e-483d-ab4d-eece998e10e3",
        "colab": {
          "base_uri": "https://localhost:8080/"
        }
      },
      "source": [
        "print(t[::2])  # : ตัวที่สอง กำหนด step ข้ามที่ละ2ตัว"
      ],
      "execution_count": 54,
      "outputs": [
        {
          "output_type": "stream",
          "name": "stdout",
          "text": [
            "pto ses\n"
          ]
        }
      ]
    },
    {
      "cell_type": "code",
      "source": [
        "print(t[::-1]) # ข้ามจากหลังไปหน้า"
      ],
      "metadata": {
        "colab": {
          "base_uri": "https://localhost:8080/"
        },
        "id": "-6jubt3bdN_A",
        "outputId": "cc0df355-7eba-49f9-e225-740bdf3cf5db"
      },
      "execution_count": 55,
      "outputs": [
        {
          "output_type": "stream",
          "name": "stdout",
          "text": [
            "ysae si nohtyp\n"
          ]
        }
      ]
    },
    {
      "cell_type": "markdown",
      "source": [
        "### range()  สร้าง list ของตัวเลขเรียงกัน"
      ],
      "metadata": {
        "id": "0UgLGK8xdoMp"
      }
    },
    {
      "cell_type": "code",
      "source": [
        "print(list(range(10)))  # 0-9 มี 10 ตัว"
      ],
      "metadata": {
        "colab": {
          "base_uri": "https://localhost:8080/"
        },
        "id": "hZj7U1AVd6bs",
        "outputId": "be49dd51-e501-465d-df2d-5eec69d6ccfe"
      },
      "execution_count": 56,
      "outputs": [
        {
          "output_type": "stream",
          "name": "stdout",
          "text": [
            "[0, 1, 2, 3, 4, 5, 6, 7, 8, 9]\n"
          ]
        }
      ]
    },
    {
      "cell_type": "code",
      "metadata": {
        "id": "9dhu9T7ebCZg",
        "outputId": "71945b8c-8ea7-461f-d9c5-cdcdec8bcd01",
        "colab": {
          "base_uri": "https://localhost:8080/"
        }
      },
      "source": [
        "print(list(range(10))[::2])"
      ],
      "execution_count": 57,
      "outputs": [
        {
          "output_type": "stream",
          "name": "stdout",
          "text": [
            "[0, 2, 4, 6, 8]\n"
          ]
        }
      ]
    },
    {
      "cell_type": "code",
      "metadata": {
        "id": "W69Wrzerb1Ad",
        "outputId": "94883f2e-9a75-4c18-fb53-e2d61b9d5cc4",
        "colab": {
          "base_uri": "https://localhost:8080/"
        }
      },
      "source": [
        "print(t[2::2])"
      ],
      "execution_count": null,
      "outputs": [
        {
          "output_type": "stream",
          "text": [
            "to ses\n"
          ],
          "name": "stdout"
        }
      ]
    },
    {
      "cell_type": "markdown",
      "metadata": {
        "id": "YSoN7fl9J3G1"
      },
      "source": [
        "#### เราสามารถเอา list มาต่อกันได้ด้วย +"
      ]
    },
    {
      "cell_type": "code",
      "metadata": {
        "colab": {
          "base_uri": "https://localhost:8080/",
          "height": 34
        },
        "id": "OoUZt83iJ3G1",
        "outputId": "3cc3aa79-4619-4913-af9e-19b8267153c0"
      },
      "source": [
        " t + '??' # string + string"
      ],
      "execution_count": 58,
      "outputs": [
        {
          "output_type": "execute_result",
          "data": {
            "text/plain": [
              "'python is easy??'"
            ],
            "application/vnd.google.colaboratory.intrinsic+json": {
              "type": "string"
            }
          },
          "metadata": {},
          "execution_count": 58
        }
      ]
    },
    {
      "cell_type": "code",
      "metadata": {
        "colab": {
          "base_uri": "https://localhost:8080/",
          "height": 141
        },
        "id": "Ik9WmOZoisKD",
        "outputId": "4adf7773-4739-4293-d877-02eeeaa2cc89"
      },
      "source": [
        "t + list_b ## ไม่สามารถเอา list ปกติมาต่อกับ string ได้"
      ],
      "execution_count": 59,
      "outputs": [
        {
          "output_type": "error",
          "ename": "TypeError",
          "evalue": "can only concatenate str (not \"list\") to str",
          "traceback": [
            "\u001b[0;31m---------------------------------------------------------------------------\u001b[0m",
            "\u001b[0;31mTypeError\u001b[0m                                 Traceback (most recent call last)",
            "\u001b[0;32m<ipython-input-59-8ceeb7529eac>\u001b[0m in \u001b[0;36m<cell line: 1>\u001b[0;34m()\u001b[0m\n\u001b[0;32m----> 1\u001b[0;31m \u001b[0mt\u001b[0m \u001b[0;34m+\u001b[0m \u001b[0mlist_b\u001b[0m \u001b[0;31m## ไม่สามารถเอา list ปกติมาต่อกับ string ได้\u001b[0m\u001b[0;34m\u001b[0m\u001b[0;34m\u001b[0m\u001b[0m\n\u001b[0m",
            "\u001b[0;31mTypeError\u001b[0m: can only concatenate str (not \"list\") to str"
          ]
        }
      ]
    },
    {
      "cell_type": "code",
      "metadata": {
        "colab": {
          "base_uri": "https://localhost:8080/"
        },
        "id": "z56m7Q29iWXI",
        "outputId": "a01c00d2-6736-42cf-8fb7-de1f0ff9085f"
      },
      "source": [
        "list_b + list_a # list + list"
      ],
      "execution_count": 60,
      "outputs": [
        {
          "output_type": "execute_result",
          "data": {
            "text/plain": [
              "[1, 5, 'v', ['sci'], 'sci']"
            ]
          },
          "metadata": {},
          "execution_count": 60
        }
      ]
    },
    {
      "cell_type": "code",
      "source": [
        "list_a"
      ],
      "metadata": {
        "colab": {
          "base_uri": "https://localhost:8080/"
        },
        "id": "reNXoaTYexny",
        "outputId": "bf74928c-70e3-44c8-a991-46ba5edc8414"
      },
      "execution_count": 62,
      "outputs": [
        {
          "output_type": "execute_result",
          "data": {
            "text/plain": [
              "['sci']"
            ]
          },
          "metadata": {},
          "execution_count": 62
        }
      ]
    },
    {
      "cell_type": "code",
      "source": [
        "list_a + list_a\n"
      ],
      "metadata": {
        "colab": {
          "base_uri": "https://localhost:8080/"
        },
        "id": "tE0tVmFVeo22",
        "outputId": "0c07afc8-21d0-4b07-95f5-f277238463a1"
      },
      "execution_count": 65,
      "outputs": [
        {
          "output_type": "execute_result",
          "data": {
            "text/plain": [
              "['sci', 'sci']"
            ]
          },
          "metadata": {},
          "execution_count": 65
        }
      ]
    },
    {
      "cell_type": "code",
      "source": [
        "6*list_a # list * int"
      ],
      "metadata": {
        "colab": {
          "base_uri": "https://localhost:8080/"
        },
        "id": "TvKAoQt4e1ZI",
        "outputId": "3ae17ba7-2a85-493d-f523-99a8bdb7b4df"
      },
      "execution_count": 66,
      "outputs": [
        {
          "output_type": "execute_result",
          "data": {
            "text/plain": [
              "['sci', 'sci', 'sci', 'sci', 'sci', 'sci']"
            ]
          },
          "metadata": {},
          "execution_count": 66
        }
      ]
    },
    {
      "cell_type": "markdown",
      "metadata": {
        "id": "GWJi8kGLJ3G1"
      },
      "source": [
        "#### การแบ่ง string ตามสัญลักษณ์ที่กำหนด -> split string"
      ]
    },
    {
      "cell_type": "code",
      "metadata": {
        "colab": {
          "base_uri": "https://localhost:8080/"
        },
        "id": "AnpBykIoJ3G1",
        "outputId": "f98a29e5-e680-42b5-9d26-d7b8a1db27dc"
      },
      "source": [
        "t.split(' ') # split string ตามช่องว่าง"
      ],
      "execution_count": 69,
      "outputs": [
        {
          "output_type": "execute_result",
          "data": {
            "text/plain": [
              "['python', 'is', 'easy']"
            ]
          },
          "metadata": {},
          "execution_count": 69
        }
      ]
    },
    {
      "cell_type": "code",
      "metadata": {
        "id": "iAXvmowYJ3G2",
        "colab": {
          "base_uri": "https://localhost:8080/"
        },
        "outputId": "a83b96af-e74d-4a42-ba32-f594df680dce"
      },
      "source": [
        "time = '12:30:15' # split string  ตาม :\n",
        "time.split(':')"
      ],
      "execution_count": 68,
      "outputs": [
        {
          "output_type": "execute_result",
          "data": {
            "text/plain": [
              "['12', '30', '15']"
            ]
          },
          "metadata": {},
          "execution_count": 68
        }
      ]
    },
    {
      "cell_type": "code",
      "metadata": {
        "colab": {
          "base_uri": "https://localhost:8080/"
        },
        "id": "nfVAyjasj4dq",
        "outputId": "19b1f759-e497-4fe2-b9f9-204c7ef4b1c8"
      },
      "source": [
        "t_sp = t.split(' ')\n",
        "print(t_sp)\n",
        "\n",
        "## วิธีรวมกลับ .join\n",
        "\n",
        "print(':'.join(t_sp)) # join list ตาม :\n"
      ],
      "execution_count": null,
      "outputs": [
        {
          "output_type": "stream",
          "text": [
            "['python', 'is', 'easy']\n",
            "python:is:easy\n"
          ],
          "name": "stdout"
        }
      ]
    },
    {
      "cell_type": "markdown",
      "metadata": {
        "id": "ZbO2O78tJ3G7"
      },
      "source": [
        "### HW1 คำนวณช่วงเวลาเป็นวินาทีของเวลาต่อไปนี้โดยใช้คำสั่ง split() ช่วย (print ออกมาให้สวยงาม)\n",
        "12:30:15 - 13:41:07\n",
        "\n",
        "12:53:15- 00:59:25\n",
        "\n",
        "16:06:09 - 11:11:11\n"
      ]
    },
    {
      "cell_type": "markdown",
      "metadata": {
        "id": "36JVc7P5toqQ"
      },
      "source": [
        "## **ไม่ต้องทำ**  ให้สร้างฟังก์ชั่นคำนวณเวลาเป็นวินาทีของเวลาใดๆ และ print ออกมาให้สวยงาม"
      ]
    },
    {
      "cell_type": "markdown",
      "metadata": {
        "id": "mR708s6l25kL"
      },
      "source": [
        "## ให้ สร้าง list ของ เวลา ```['12:30:15','13:41:07',....]``` แล้ววนลูปเรียกฟังก์ชั่นคำนวณเวลาเป็น วินาที\n",
        "\n",
        "**commit ว่า HW3**"
      ]
    },
    {
      "cell_type": "code",
      "metadata": {
        "id": "F5SleBYkkzKw"
      },
      "source": [],
      "execution_count": null,
      "outputs": []
    }
  ]
}